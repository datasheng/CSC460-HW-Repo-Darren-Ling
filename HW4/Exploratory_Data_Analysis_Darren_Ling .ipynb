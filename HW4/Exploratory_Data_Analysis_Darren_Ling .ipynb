{
  "nbformat": 4,
  "nbformat_minor": 0,
  "metadata": {
    "colab": {
      "provenance": []
    },
    "kernelspec": {
      "name": "python3",
      "display_name": "Python 3"
    },
    "language_info": {
      "name": "python"
    }
  },
  "cells": [
    {
      "cell_type": "code",
      "execution_count": 2,
      "metadata": {
        "id": "jeE-ec8Td9qT"
      },
      "outputs": [],
      "source": [
        "# Import necessary libraries\n",
        "import pandas as pd\n",
        "import numpy as np\n",
        "import matplotlib.pyplot as plt\n",
        "import seaborn as sns"
      ]
    },
    {
      "cell_type": "code",
      "source": [
        "# Create data frame from twitchdata-update.csv\n",
        "df = pd.read_csv(\"twitchdata-update.csv\")\n",
        "print(df.head())"
      ],
      "metadata": {
        "colab": {
          "base_uri": "https://localhost:8080/"
        },
        "id": "VL61qY9ZeN84",
        "outputId": "35787f41-9027-474a-9fde-d6685d2ef1a7"
      },
      "execution_count": 3,
      "outputs": [
        {
          "output_type": "stream",
          "name": "stdout",
          "text": [
            "    Channel  Watch time(Minutes)  Stream time(minutes)  Peak viewers  \\\n",
            "0     xQcOW           6196161750                215250        222720   \n",
            "1  summit1g           6091677300                211845        310998   \n",
            "2    Gaules           5644590915                515280        387315   \n",
            "3  ESL_CSGO           3970318140                517740        300575   \n",
            "4      Tfue           3671000070                123660        285644   \n",
            "\n",
            "   Average viewers  Followers  Followers gained  Views gained  Partnered  \\\n",
            "0            27716    3246298           1734810      93036735       True   \n",
            "1            25610    5310163           1370184      89705964       True   \n",
            "2            10976    1767635           1023779     102611607       True   \n",
            "3             7714    3944850            703986     106546942       True   \n",
            "4            29602    8938903           2068424      78998587       True   \n",
            "\n",
            "   Mature    Language  \n",
            "0   False     English  \n",
            "1   False     English  \n",
            "2    True  Portuguese  \n",
            "3   False     English  \n",
            "4   False     English  \n"
          ]
        }
      ]
    },
    {
      "cell_type": "code",
      "source": [
        "# Print info about data frame\n",
        "print(df.info())"
      ],
      "metadata": {
        "colab": {
          "base_uri": "https://localhost:8080/"
        },
        "id": "xKO8VCK3mP8d",
        "outputId": "db0a4341-3acd-44e2-d695-a767a8097ae3"
      },
      "execution_count": 10,
      "outputs": [
        {
          "output_type": "stream",
          "name": "stdout",
          "text": [
            "<class 'pandas.core.frame.DataFrame'>\n",
            "RangeIndex: 1000 entries, 0 to 999\n",
            "Data columns (total 11 columns):\n",
            " #   Column                Non-Null Count  Dtype \n",
            "---  ------                --------------  ----- \n",
            " 0   Channel               1000 non-null   object\n",
            " 1   Watch time(Minutes)   1000 non-null   int64 \n",
            " 2   Stream time(minutes)  1000 non-null   int64 \n",
            " 3   Peak viewers          1000 non-null   int64 \n",
            " 4   Average viewers       1000 non-null   int64 \n",
            " 5   Followers             1000 non-null   int64 \n",
            " 6   Followers gained      1000 non-null   int64 \n",
            " 7   Views gained          1000 non-null   int64 \n",
            " 8   Partnered             1000 non-null   bool  \n",
            " 9   Mature                1000 non-null   bool  \n",
            " 10  Language              1000 non-null   object\n",
            "dtypes: bool(2), int64(7), object(2)\n",
            "memory usage: 72.4+ KB\n",
            "None\n"
          ]
        }
      ]
    },
    {
      "cell_type": "code",
      "source": [
        "# Print description about data frame\n",
        "print(df.describe())"
      ],
      "metadata": {
        "colab": {
          "base_uri": "https://localhost:8080/"
        },
        "id": "y1YyCmlKmTot",
        "outputId": "37bf6532-2650-4180-d758-3afa0765459d"
      },
      "execution_count": 7,
      "outputs": [
        {
          "output_type": "stream",
          "name": "stdout",
          "text": [
            "       Watch time(Minutes)  Stream time(minutes)   Peak viewers  \\\n",
            "count         1.000000e+03           1000.000000    1000.000000   \n",
            "mean          4.184279e+08         120515.160000   37065.051000   \n",
            "std           5.496355e+08          85376.201364   60314.307686   \n",
            "min           1.221928e+08           3465.000000     496.000000   \n",
            "25%           1.631899e+08          73758.750000    9113.750000   \n",
            "50%           2.349908e+08         108240.000000   16676.000000   \n",
            "75%           4.337399e+08         141843.750000   37569.750000   \n",
            "max           6.196162e+09         521445.000000  639375.000000   \n",
            "\n",
            "       Average viewers     Followers  Followers gained  Views gained  \n",
            "count      1000.000000  1.000000e+03      1.000000e+03  1.000000e+03  \n",
            "mean       4781.040000  5.700541e+05      2.055185e+05  1.166817e+07  \n",
            "std        8453.684965  8.044134e+05      3.399137e+05  2.490572e+07  \n",
            "min         235.000000  3.660000e+03     -1.577200e+04  1.757880e+05  \n",
            "25%        1457.750000  1.705462e+05      4.375825e+04  3.880602e+06  \n",
            "50%        2425.000000  3.180630e+05      9.835200e+04  6.456324e+06  \n",
            "75%        4786.250000  6.243322e+05      2.361308e+05  1.219676e+07  \n",
            "max      147643.000000  8.938903e+06      3.966525e+06  6.701375e+08  \n"
          ]
        }
      ]
    },
    {
      "cell_type": "code",
      "source": [
        "# Find columns with NaN values\n",
        "print(df.isna().sum())"
      ],
      "metadata": {
        "colab": {
          "base_uri": "https://localhost:8080/"
        },
        "id": "j69pygeamxiv",
        "outputId": "d1f7ded7-2e3a-4f8c-b751-cef6c4345230"
      },
      "execution_count": 8,
      "outputs": [
        {
          "output_type": "stream",
          "name": "stdout",
          "text": [
            "Channel                 0\n",
            "Watch time(Minutes)     0\n",
            "Stream time(minutes)    0\n",
            "Peak viewers            0\n",
            "Average viewers         0\n",
            "Followers               0\n",
            "Followers gained        0\n",
            "Views gained            0\n",
            "Partnered               0\n",
            "Mature                  0\n",
            "Language                0\n",
            "dtype: int64\n"
          ]
        }
      ]
    },
    {
      "cell_type": "code",
      "source": [
        "# Print data types of all columns\n",
        "print(df.dtypes)"
      ],
      "metadata": {
        "colab": {
          "base_uri": "https://localhost:8080/"
        },
        "id": "WI9FEB-mm63C",
        "outputId": "6684ff8c-c395-4935-dd67-6f83704baa03"
      },
      "execution_count": 9,
      "outputs": [
        {
          "output_type": "stream",
          "name": "stdout",
          "text": [
            "Channel                 object\n",
            "Watch time(Minutes)      int64\n",
            "Stream time(minutes)     int64\n",
            "Peak viewers             int64\n",
            "Average viewers          int64\n",
            "Followers                int64\n",
            "Followers gained         int64\n",
            "Views gained             int64\n",
            "Partnered                 bool\n",
            "Mature                    bool\n",
            "Language                object\n",
            "dtype: object\n"
          ]
        }
      ]
    },
    {
      "cell_type": "code",
      "source": [],
      "metadata": {
        "id": "fgQolF4DnD75"
      },
      "execution_count": null,
      "outputs": []
    }
  ]
}